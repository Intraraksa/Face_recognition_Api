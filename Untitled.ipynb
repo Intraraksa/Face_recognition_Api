{
 "cells": [
  {
   "cell_type": "code",
   "execution_count": 5,
   "id": "3552bba1-593d-4312-8624-afb126467c27",
   "metadata": {},
   "outputs": [],
   "source": [
    "import pymongo \n",
    "\n",
    "CONNECTION_STRING = \"mongodb://localhost:27017\"\n",
    "client = pymongo.MongoClient(CONNECTION_STRING)\n",
    "\n",
    "db = client[\"botnoi\"]\n",
    "table = db[\"detail\"]"
   ]
  },
  {
   "cell_type": "code",
   "execution_count": 2,
   "id": "34c0fa36-9bf8-4771-8716-a0c99b2aaf92",
   "metadata": {},
   "outputs": [],
   "source": [
    "data = {\"Idcard\":3102002265996,\n",
    "        \"name\": \"Ja\",\n",
    "        \"face_emb\":[1,2,45,4,5,65,81]}"
   ]
  },
  {
   "cell_type": "code",
   "execution_count": 3,
   "id": "286ca4ba-3f0d-4c51-9066-4313a22190d3",
   "metadata": {},
   "outputs": [],
   "source": [
    "x = table.insert_one(data)"
   ]
  },
  {
   "cell_type": "code",
   "execution_count": 21,
   "id": "add58933-7fd4-4b44-b61f-9e6c89ff1ddf",
   "metadata": {},
   "outputs": [
    {
     "name": "stdout",
     "output_type": "stream",
     "text": [
      "_id\n",
      "Idcard\n",
      "name\n",
      "face_emb\n"
     ]
    }
   ],
   "source": [
    "for i in table.find_one():\n",
    "    print(i)"
   ]
  },
  {
   "cell_type": "code",
   "execution_count": 11,
   "id": "8ce3f0f1-cd92-4525-98e9-de835da7614f",
   "metadata": {},
   "outputs": [],
   "source": [
    "z = table.find_one({\"Idcard\":3102002265996})"
   ]
  },
  {
   "cell_type": "code",
   "execution_count": 12,
   "id": "f152cc74-49cf-4a65-81ec-746a73af39e7",
   "metadata": {},
   "outputs": [
    {
     "data": {
      "text/plain": [
       "{'_id': ObjectId('62dfa8710f1126537d7c2093'),\n",
       " 'Idcard': 3102002265996,\n",
       " 'name': 'Gun',\n",
       " 'face_emb': [2, 2, 4, 4, 5, 65, 81]}"
      ]
     },
     "execution_count": 12,
     "metadata": {},
     "output_type": "execute_result"
    }
   ],
   "source": [
    "z"
   ]
  },
  {
   "cell_type": "code",
   "execution_count": 23,
   "id": "7badc827-d755-4f1b-acd1-2e5b2114dde6",
   "metadata": {},
   "outputs": [
    {
     "data": {
      "text/plain": [
       "[3102002265996, 'Gun']"
      ]
     },
     "execution_count": 23,
     "metadata": {},
     "output_type": "execute_result"
    }
   ],
   "source": [
    "a = [z[j] for j in[i for i in z.keys() if str(i) != \"_id\"]][:2]\n",
    "a"
   ]
  },
  {
   "cell_type": "code",
   "execution_count": 77,
   "id": "d37b1c43-11c4-4e71-bfc8-7d52cc7340e4",
   "metadata": {},
   "outputs": [
    {
     "data": {
      "text/plain": [
       "[3102002265997, 'Jaaran', [2, 2, 45, 4, 5, 65, 81]]"
      ]
     },
     "execution_count": 77,
     "metadata": {},
     "output_type": "execute_result"
    }
   ],
   "source": [
    "[z[j] for j in a]"
   ]
  },
  {
   "cell_type": "code",
   "execution_count": 62,
   "id": "35c7fc8f-d05a-4cb2-a302-1a94510af93d",
   "metadata": {},
   "outputs": [
    {
     "data": {
      "text/plain": [
       "dict_keys(['_id', 'Idcard', 'name', 'face_emb'])"
      ]
     },
     "execution_count": 62,
     "metadata": {},
     "output_type": "execute_result"
    }
   ],
   "source": [
    "z.keys()"
   ]
  },
  {
   "cell_type": "code",
   "execution_count": 64,
   "id": "80b289c8-466f-41a0-bc62-b923a46d8a41",
   "metadata": {},
   "outputs": [
    {
     "data": {
      "text/plain": [
       "{'_id': ObjectId('62dfaf2b0f1126537d7c2094'),\n",
       " 'Idcard': 3102002265997,\n",
       " 'name': 'Jaaran',\n",
       " 'face_emb': [2, 2, 45, 4, 5, 65, 81]}"
      ]
     },
     "execution_count": 64,
     "metadata": {},
     "output_type": "execute_result"
    }
   ],
   "source": [
    "z"
   ]
  },
  {
   "cell_type": "code",
   "execution_count": 3,
   "id": "b9b5cbbf-5eee-446a-8ad8-e7a437a64c5c",
   "metadata": {},
   "outputs": [],
   "source": [
    "query = {\"Idcard\" : 3102002265997}\n",
    "new_data = {\"$set\" : {\"name\":\"Jaran\"}}"
   ]
  },
  {
   "cell_type": "code",
   "execution_count": 7,
   "id": "c09878db-0897-44b4-a9fa-7c33e6c64208",
   "metadata": {},
   "outputs": [
    {
     "data": {
      "text/plain": [
       "<pymongo.results.UpdateResult at 0x1e11b118040>"
      ]
     },
     "execution_count": 7,
     "metadata": {},
     "output_type": "execute_result"
    }
   ],
   "source": [
    "table.update_one(query , new_data)"
   ]
  },
  {
   "cell_type": "code",
   "execution_count": null,
   "id": "6a7dcab0-fe1a-4800-aced-0e3ee1ab1401",
   "metadata": {},
   "outputs": [],
   "source": []
  }
 ],
 "metadata": {
  "kernelspec": {
   "display_name": "Python 3 (ipykernel)",
   "language": "python",
   "name": "python3"
  },
  "language_info": {
   "codemirror_mode": {
    "name": "ipython",
    "version": 3
   },
   "file_extension": ".py",
   "mimetype": "text/x-python",
   "name": "python",
   "nbconvert_exporter": "python",
   "pygments_lexer": "ipython3",
   "version": "3.9.12"
  }
 },
 "nbformat": 4,
 "nbformat_minor": 5
}
