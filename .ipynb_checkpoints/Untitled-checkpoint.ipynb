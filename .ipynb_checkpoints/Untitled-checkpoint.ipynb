{
 "cells": [
  {
   "cell_type": "code",
   "execution_count": 4,
   "id": "3552bba1-593d-4312-8624-afb126467c27",
   "metadata": {},
   "outputs": [],
   "source": [
    "import pymongo \n",
    "\n",
    "CONNECTION_STRING = \"mongodb://localhost:27017\"\n",
    "client = pymongo.MongoClient(CONNECTION_STRING)\n",
    "\n",
    "db = client[\"botnoi\"]\n",
    "table = db[\"detail\"]"
   ]
  },
  {
   "cell_type": "code",
   "execution_count": 10,
   "id": "34c0fa36-9bf8-4771-8716-a0c99b2aaf92",
   "metadata": {},
   "outputs": [],
   "source": [
    "data = {\"Idcard\":3102002265996,\n",
    "        \"name\": \"Gun\",\n",
    "        \"face_emb\":[2,2,4,4,5,65,81]}"
   ]
  },
  {
   "cell_type": "code",
   "execution_count": 11,
   "id": "286ca4ba-3f0d-4c51-9066-4313a22190d3",
   "metadata": {},
   "outputs": [],
   "source": [
    "x = table.insert_one(data)"
   ]
  },
  {
   "cell_type": "code",
   "execution_count": 21,
   "id": "add58933-7fd4-4b44-b61f-9e6c89ff1ddf",
   "metadata": {},
   "outputs": [
    {
     "name": "stdout",
     "output_type": "stream",
     "text": [
      "_id\n",
      "Idcard\n",
      "name\n",
      "face_emb\n"
     ]
    }
   ],
   "source": [
    "for i in table.find_one():\n",
    "    print(i)"
   ]
  },
  {
   "cell_type": "code",
   "execution_count": 23,
   "id": "8ce3f0f1-cd92-4525-98e9-de835da7614f",
   "metadata": {},
   "outputs": [],
   "source": [
    "z = table.find_one()"
   ]
  },
  {
   "cell_type": "code",
   "execution_count": 24,
   "id": "f152cc74-49cf-4a65-81ec-746a73af39e7",
   "metadata": {},
   "outputs": [
    {
     "data": {
      "text/plain": [
       "{'_id': ObjectId('62df5fbe0f1126537d7c208f'),\n",
       " 'Idcard': '3102002265996',\n",
       " 'name': 'Natdanai',\n",
       " 'face_emb': [1, 2, 3, 4, 5, 66, 99]}"
      ]
     },
     "execution_count": 24,
     "metadata": {},
     "output_type": "execute_result"
    }
   ],
   "source": [
    "z"
   ]
  },
  {
   "cell_type": "code",
   "execution_count": null,
   "id": "7badc827-d755-4f1b-acd1-2e5b2114dde6",
   "metadata": {},
   "outputs": [],
   "source": [
    "for i in z if "
   ]
  }
 ],
 "metadata": {
  "kernelspec": {
   "display_name": "Python 3 (ipykernel)",
   "language": "python",
   "name": "python3"
  },
  "language_info": {
   "codemirror_mode": {
    "name": "ipython",
    "version": 3
   },
   "file_extension": ".py",
   "mimetype": "text/x-python",
   "name": "python",
   "nbconvert_exporter": "python",
   "pygments_lexer": "ipython3",
   "version": "3.9.12"
  }
 },
 "nbformat": 4,
 "nbformat_minor": 5
}
